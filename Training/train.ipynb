{
 "cells": [
  {
   "cell_type": "code",
   "execution_count": null,
   "id": "50ad8525",
   "metadata": {},
   "outputs": [],
   "source": [
    "import pandas as pd\n",
    "import matplotlib.pyplot as plt\n",
    "import numpy as np"
   ]
  },
  {
   "cell_type": "code",
   "execution_count": null,
   "id": "40ee762f",
   "metadata": {},
   "outputs": [],
   "source": [
    "df  = pd.read_csv('../Data/train.csv')\n",
    "df.head()"
   ]
  },
  {
   "cell_type": "code",
   "execution_count": null,
   "id": "2ccdba62",
   "metadata": {},
   "outputs": [],
   "source": [
    "def engineer_features(df):\n",
    "    df = df.copy()\n",
    "    # Extract features from Cabin\n",
    "    df['Deck'] = df['Cabin'].str.split('/').str[0]\n",
    "    df['Side'] = df['Cabin'].str.split('/').str[2]\n",
    "    df['CabinNumber'] = df['Cabin'].str.split('/').str[1].fillna('0').astype(int)\n",
    "\n",
    "    # Extract group information from PassengerId\n",
    "    df['Group'] = df['PassengerId'].str.split('_').str[0]\n",
    "    df['NumberInGroup'] = df['PassengerId'].str.split('_').str[1].astype(int)\n",
    "\n",
    "    # Create spending features\n",
    "    spending_features = ['RoomService', 'FoodCourt', 'ShoppingMall', 'Spa', 'VRDeck']\n",
    "    df['TotalSpending'] = df[spending_features].sum(axis=1)\n",
    "    df['HasSpending'] = (df['TotalSpending'] > 0).astype(int)\n",
    "    df['SpendingRatio'] = df['RoomService'] / (df['TotalSpending'] + 1)  # Avoid division by zero\n",
    "\n",
    "    # Create age groups\n",
    "    df['AgeGroup'] = pd.cut(df['Age'], bins=[0, 12, 18, 30, 50, 100], \n",
    "                            labels=['Child', 'Teen', 'YoungAdult', 'Adult', 'Senior'])\n",
    "\n",
    "    # Family size based on group (simplified)\n",
    "    group_sizes = df['Group'].value_counts()\n",
    "    df['GroupSize'] = df['Group'].map(group_sizes)\n",
    "\n",
    "    # Drop original columns we've engineered from\n",
    "    df.drop(['Cabin', 'Name'], axis=1, inplace=True)\n",
    "    return df\n",
    "\n",
    "# Use it for both train and test\n",
    "train_df = engineer_features(df)\n"
   ]
  },
  {
   "cell_type": "code",
   "execution_count": null,
   "id": "67ed6e34",
   "metadata": {},
   "outputs": [],
   "source": []
  },
  {
   "cell_type": "code",
   "execution_count": null,
   "id": "08f974a5",
   "metadata": {},
   "outputs": [],
   "source": [
    "train_df['Transported_Updated'] = train_df['Transported'].astype(int)\n",
    "train_df['Transported_Updated'].value_counts()\n",
    "\n",
    "df.drop(columns=['Transported'], inplace=True)"
   ]
  },
  {
   "cell_type": "code",
   "execution_count": null,
   "id": "779ed0b6",
   "metadata": {},
   "outputs": [],
   "source": [
    "X = train_df.drop(columns='Transported_Updated')\n",
    "Y = train_df['Transported_Updated']\n",
    "\n",
    "numerical_features = X.select_dtypes(include=['float64', 'int32'])\n",
    "categorical_features = X.select_dtypes(include=['object'])\n"
   ]
  },
  {
   "cell_type": "code",
   "execution_count": null,
   "id": "403da6ee",
   "metadata": {},
   "outputs": [],
   "source": [
    "from sklearn.preprocessing import StandardScaler, OneHotEncoder\n",
    "from sklearn.impute import SimpleImputer\n",
    "from sklearn.pipeline import Pipeline\n",
    "from sklearn.compose import ColumnTransformer\n",
    "from sklearn.linear_model import LogisticRegression\n",
    "from sklearn.metrics import confusion_matrix, classification_report, accuracy_score\n",
    "from sklearn.ensemble import RandomForestClassifier\n",
    "from sklearn.model_selection import RandomizedSearchCV"
   ]
  },
  {
   "cell_type": "code",
   "execution_count": null,
   "id": "03495ab1",
   "metadata": {},
   "outputs": [],
   "source": [
    "numerical_transformer = Pipeline(steps=[\n",
    "    ('imputer', SimpleImputer(strategy='mean')),\n",
    "    ('scaler', StandardScaler())\n",
    "])\n",
    "\n",
    "categorical_transformer = Pipeline(steps=[\n",
    "    ('imputer', SimpleImputer(strategy='most_frequent')),\n",
    "    ('onehot', OneHotEncoder(handle_unknown='ignore', sparse_output=False))\n",
    "])\n",
    "\n",
    "preprocessor = ColumnTransformer(\n",
    "    transformers=[\n",
    "        ('num', numerical_transformer, numerical_features.columns),\n",
    "        ('cat', categorical_transformer, categorical_features.columns)\n",
    "    ]\n",
    ")\n"
   ]
  },
  {
   "cell_type": "code",
   "execution_count": null,
   "id": "e5d91e24",
   "metadata": {},
   "outputs": [],
   "source": [
    "from sklearn.model_selection import train_test_split\n",
    "X_train, X_test, Y_train, Y_test = train_test_split(X, Y, test_size=0.2, random_state=23)"
   ]
  },
  {
   "cell_type": "code",
   "execution_count": null,
   "id": "91b506fe",
   "metadata": {},
   "outputs": [],
   "source": [
    "!pip install xgboost"
   ]
  },
  {
   "cell_type": "code",
   "execution_count": null,
   "id": "5382b77d",
   "metadata": {},
   "outputs": [],
   "source": [
    "import xgboost as xgb\n",
    "\n",
    "\n",
    "pipe = Pipeline(steps=[\n",
    "    ('preprocessor', preprocessor),\n",
    "    ('model', xgb.XGBClassifier(\n",
    "        random_state=42,\n",
    "        eval_metric='logloss',\n",
    "        use_label_encoder=False,\n",
    "        n_estimators=200,\n",
    "        learning_rate=0.1,\n",
    "        max_depth=5,\n",
    "        subsample=0.8,\n",
    "        colsample_bytree=0.8\n",
    "    ))\n",
    "])"
   ]
  },
  {
   "cell_type": "code",
   "execution_count": null,
   "id": "a8f75730",
   "metadata": {},
   "outputs": [],
   "source": [
    "from sklearn.model_selection import GridSearchCV\n",
    "\n",
    "param_grid = {\n",
    "    'model__max_depth': [3, 4, 5],\n",
    "    'model__learning_rate': [0.05, 0.1, 0.2],\n",
    "    'model__subsample': [0.8, 0.9],\n",
    "    'model__colsample_bytree': [0.8, 0.9]\n",
    "}\n",
    "\n",
    "grid_search = GridSearchCV(\n",
    "    pipe, \n",
    "    param_grid, \n",
    "    cv=3, \n",
    "    scoring='accuracy',\n",
    "    n_jobs=-1,\n",
    "    verbose=1\n",
    ")\n",
    "\n",
    "grid_search.fit(X_train, Y_train)\n",
    "\n",
    "print(\"Best parameters:\", grid_search.best_params_)\n",
    "print(\"Best cross-validation score:\", grid_search.best_score_)\n"
   ]
  },
  {
   "cell_type": "code",
   "execution_count": null,
   "id": "82310b3b",
   "metadata": {},
   "outputs": [],
   "source": [
    "grid_search.fit(X_train, Y_train)"
   ]
  },
  {
   "cell_type": "code",
   "execution_count": null,
   "id": "372fcb1a",
   "metadata": {},
   "outputs": [],
   "source": [
    "Y_train_pred = grid_search.predict(X_train)\n",
    "accuracy_score(Y_train, Y_train_pred)"
   ]
  },
  {
   "cell_type": "code",
   "execution_count": null,
   "id": "c66b9a9a",
   "metadata": {},
   "outputs": [],
   "source": [
    "Y_test_pred = grid_search.predict(X_test)\n",
    "accuracy_score(Y_test, Y_test_pred)"
   ]
  },
  {
   "cell_type": "code",
   "execution_count": null,
   "id": "a9c99306",
   "metadata": {},
   "outputs": [],
   "source": [
    "test_df = pd.read_csv('../Data/test.csv')\n",
    "test_df = engineer_features(test_df)\n"
   ]
  },
  {
   "cell_type": "code",
   "execution_count": null,
   "id": "8ca90b28",
   "metadata": {},
   "outputs": [],
   "source": [
    "test_df_pred = grid_search.predict(test_df)"
   ]
  },
  {
   "cell_type": "code",
   "execution_count": null,
   "id": "37f0a4be",
   "metadata": {},
   "outputs": [],
   "source": [
    "print(test_df_pred)"
   ]
  },
  {
   "cell_type": "code",
   "execution_count": null,
   "id": "794c9c2a",
   "metadata": {},
   "outputs": [],
   "source": [
    "test_df_pred_bool = []\n",
    "for i in test_df_pred:\n",
    "    j =bool(i)\n",
    "    test_df_pred_bool.append(j)"
   ]
  },
  {
   "cell_type": "code",
   "execution_count": null,
   "id": "83d98fef",
   "metadata": {},
   "outputs": [],
   "source": [
    "answers = {\n",
    "    'PassengerId' : test_df['PassengerId'], \n",
    "    'Transported' : test_df_pred_bool \n",
    "    }"
   ]
  },
  {
   "cell_type": "code",
   "execution_count": 58,
   "metadata": {},
   "outputs": [],
   "source": [
    "answers_df = pd.DataFrame(answers)"
   ]
  },
  {
   "cell_type": "code",
   "execution_count": null,
   "id": "2a7ef44f",
   "metadata": {},
   "outputs": [],
   "source": [
    "answers_df.head()"
   ]
  },
  {
   "cell_type": "code",
   "execution_count": null,
   "metadata": {},
   "outputs": [],
   "source": [
    "answers_df.to_csv('../Answer/answers.csv', index=False)"
   ]
  },
  {
   "cell_type": "code",
   "execution_count": null,
   "metadata": {},
   "outputs": [],
   "source": [
    "import joblib\n",
    "\n",
    "# Save\n",
    "joblib.dump(grid_search, \"model.joblib\")\n",
    "\n",
    "# Load\n",
    "# loaded_model = joblib.load(\"model.joblib\")\n",
    "\n",
    "# y_pred = loaded_model.predict(test_df)\n"
   ]
  },
  {
   "cell_type": "code",
   "execution_count": null,
   "id": "551eb8de",
   "metadata": {},
   "outputs": [],
   "source": []
  },
  {
   "cell_type": "code",
   "execution_count": null,
   "id": "454b55ba",
   "metadata": {},
   "outputs": [],
   "source": []
  },
  {
   "cell_type": "code",
   "execution_count": null,
   "metadata": {},
   "outputs": [],
   "source": []
  },
  {
   "cell_type": "code",
   "execution_count": null,
   "metadata": {},
   "outputs": [],
   "source": []
  },
  {
   "cell_type": "code",
   "execution_count": null,
   "id": "67f641cc",
   "metadata": {},
   "outputs": [],
   "source": []
  },
  {
   "cell_type": "code",
   "execution_count": null,
   "metadata": {},
   "outputs": [],
   "source": []
  },
  {
   "cell_type": "code",
   "execution_count": null,
   "metadata": {},
   "outputs": [],
   "source": []
  },
  {
   "cell_type": "code",
   "execution_count": null,
   "id": "2465dd8c",
   "metadata": {},
   "outputs": [],
   "source": []
  },
  {
   "cell_type": "code",
   "execution_count": null,
   "id": "8e007810",
   "metadata": {},
   "outputs": [],
   "source": []
  },
  {
   "cell_type": "code",
   "execution_count": null,
   "id": "175731af",
   "metadata": {},
   "outputs": [],
   "source": []
  },
  {
   "cell_type": "code",
   "execution_count": null,
   "id": "532cbb43",
   "metadata": {},
   "outputs": [],
   "source": []
  },
  {
   "cell_type": "code",
   "execution_count": null,
   "id": "109cd6ab",
   "metadata": {},
   "outputs": [],
   "source": []
  }
 ],
 "metadata": {
  "kernelspec": {
   "display_name": "base",
   "language": "python",
   "name": "python3"
  },
  "language_info": {
   "codemirror_mode": {
    "name": "ipython",
    "version": 3
   },
   "file_extension": ".py",
   "mimetype": "text/x-python",
   "name": "python",
   "nbconvert_exporter": "python",
   "pygments_lexer": "ipython3",
   "version": "3.12.7"
  }
 },
 "nbformat": 4,
 "nbformat_minor": 5
}
